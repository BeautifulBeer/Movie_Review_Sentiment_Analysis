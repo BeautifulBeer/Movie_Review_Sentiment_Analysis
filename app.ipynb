{
 "cells": [
  {
   "cell_type": "code",
   "execution_count": 5,
   "metadata": {},
   "outputs": [],
   "source": [
    "import torch\n",
    "import torch.nn.functional as F\n",
    "import torchtext"
   ]
  },
  {
   "cell_type": "code",
   "execution_count": 4,
   "metadata": {},
   "outputs": [],
   "source": [
    "class Network(torch.nn.Module):\n",
    "    def __init__(self, vocab_size, emb_dim, hidden_size, num_outputs, num_layers=2):\n",
    "        super().__init__()\n",
    "        self.embedding = torch.nn.Embedding(vocab_size, emb_dim)\n",
    "        # Bidirectional LSTM\n",
    "        self.rnn = torch.nn.LSTM(emb_dim,\n",
    "                                 hidden_size,\n",
    "                                 num_layers=num_layers,\n",
    "                                 dropout=0.5,\n",
    "                                 bidirectional=True)\n",
    "        self.fc = torch.nn.Linear(hidden_size, num_outputs)\n",
    "        self.softmax = torch.nn.LogSoftmax(dim=-1)\n",
    "        \n",
    "    def forward(self, inputs):\n",
    "        embs = self.embedding(inputs)\n",
    "        output, _ = self.rnn(embs)\n",
    "        return self.softmax(output)"
   ]
  },
  {
   "cell_type": "code",
   "execution_count": 10,
   "metadata": {},
   "outputs": [],
   "source": [
    "# import torch\n",
    "# import torchtext\n",
    "\n",
    "def LoadTSV(file_path, columns, skip_header=False):\n",
    "    return torchtext.data.TabularDataset(file_path, 'TSV', columns, skip_header=skip_header)"
   ]
  },
  {
   "cell_type": "code",
   "execution_count": 105,
   "metadata": {},
   "outputs": [],
   "source": [
    "LABEL = torchtext.data.Field(sequential=False)\n",
    "TEXT = torchtext.data.Field(fix_length=50, use_vocab=True, lower=True)\n",
    "\n",
    "train_columns = [\n",
    "    ('PhraseId', None),\n",
    "    ('SentenceId', None),\n",
    "    ('Phrase', TEXT),\n",
    "    ('Sentiment', LABEL)\n",
    "]\n",
    "\n",
    "test_columns = [\n",
    "    ('PhraseId', None),\n",
    "    ('SentenceId', None),\n",
    "    ('Phrase', TEXT)\n",
    "]\n"
   ]
  },
  {
   "cell_type": "code",
   "execution_count": 106,
   "metadata": {},
   "outputs": [],
   "source": [
    "train = LoadTSV('./movie-review-sentiment-analysis-kernels-only/train.tsv/train.tsv', train_columns)\n",
    "test = LoadTSV('./movie-review-sentiment-analysis-kernels-only/test.tsv/test.tsv', test_columns)"
   ]
  },
  {
   "cell_type": "code",
   "execution_count": 107,
   "metadata": {},
   "outputs": [],
   "source": [
    "TEXT.build_vocab(train, vectors=torchtext.vocab.GloVe(name='6B', dim=300), max_size=50000)\n",
    "LABEL.build_vocab(train)"
   ]
  },
  {
   "cell_type": "code",
   "execution_count": 93,
   "metadata": {},
   "outputs": [],
   "source": [
    "device = torch.device('cuda') if torch.cuda.is_available() else torch.device('cpu')\n",
    "train_iter, test_iter = torchtext.data.BucketIterator.splits((train, test), batch_size=32, device=device)\n",
    "\n",
    "train_iter.repeat = False\n",
    "test_iter.repeat = False"
   ]
  },
  {
   "cell_type": "code",
   "execution_count": 134,
   "metadata": {},
   "outputs": [
    {
     "name": "stdout",
     "output_type": "stream",
     "text": [
      "tensor([[ 314,   16,    2,  ...,    2,   85,   93],\n",
      "        [   4,    2, 1084,  ...,  139,    9,   87],\n",
      "        [2115, 5535, 3426,  ...,   18,    4, 5714],\n",
      "        ...,\n",
      "        [   1,    1,    1,  ...,    1,    1,    1],\n",
      "        [   1,    1,    1,  ...,    1,    1,    1],\n",
      "        [   1,    1,    1,  ...,    1,    1,    1]], device='cuda:0') tensor([4, 1, 2, 2, 2, 2, 1, 1, 2, 3, 2, 3, 1, 3, 1, 1, 4, 1, 3, 4, 3, 5, 4, 1,\n",
      "        2, 1, 1, 1, 1, 2, 2, 1], device='cuda:0')\n"
     ]
    }
   ],
   "source": [
    "for batch in train_iter:\n",
    "    text, labels = batch.Phrase, batch.Sentiment\n",
    "    break"
   ]
  },
  {
   "cell_type": "code",
   "execution_count": null,
   "metadata": {},
   "outputs": [],
   "source": []
  },
  {
   "cell_type": "code",
   "execution_count": null,
   "metadata": {},
   "outputs": [],
   "source": []
  }
 ],
 "metadata": {
  "kernelspec": {
   "display_name": "Python 3",
   "language": "python",
   "name": "python3"
  },
  "language_info": {
   "codemirror_mode": {
    "name": "ipython",
    "version": 3
   },
   "file_extension": ".py",
   "mimetype": "text/x-python",
   "name": "python",
   "nbconvert_exporter": "python",
   "pygments_lexer": "ipython3",
   "version": "3.7.6"
  }
 },
 "nbformat": 4,
 "nbformat_minor": 4
}
