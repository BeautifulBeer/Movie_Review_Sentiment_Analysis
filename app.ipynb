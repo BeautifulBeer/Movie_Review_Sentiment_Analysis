{
 "cells": [
  {
   "cell_type": "code",
   "execution_count": 1,
   "metadata": {},
   "outputs": [],
   "source": [
    "import torch\n",
    "import torch.nn.functional as F\n",
    "import torchtext\n",
    "import time\n",
    "import os\n",
    "import pandas as pd"
   ]
  },
  {
   "cell_type": "code",
   "execution_count": 2,
   "metadata": {},
   "outputs": [],
   "source": [
    "# Declare bi-directional LSTM for sentiment analyzer\n",
    "class Network(torch.nn.Module):\n",
    "    def __init__(self, vocab_size, emb_dim, hidden_size, num_outputs, num_layers=2):\n",
    "        super().__init__()\n",
    "        self.embedding = torch.nn.Embedding(vocab_size, emb_dim)\n",
    "        # Bi-directional LSTM\n",
    "        self.rnn = torch.nn.LSTM(emb_dim,\n",
    "                                 hidden_size,\n",
    "                                 num_layers=num_layers,\n",
    "                                 dropout=0.3,\n",
    "                                 bidirectional=True)\n",
    "        # doubling size of hidden layers because of the bi-directional LSTM\n",
    "        self.fc = torch.nn.Linear(hidden_size * 2, num_outputs)\n",
    "        self.softmax = torch.nn.LogSoftmax(dim=-1)\n",
    "        \n",
    "    def forward(self, inputs):\n",
    "        embs = self.embedding(inputs)\n",
    "        output, _ = self.rnn(embs)\n",
    "        output = self.fc(output[-1])\n",
    "        return self.softmax(output)"
   ]
  },
  {
   "cell_type": "code",
   "execution_count": 3,
   "metadata": {},
   "outputs": [],
   "source": [
    "# Load data from tsv format file\n",
    "def LoadTSV(file_path, columns, skip_header=True):\n",
    "    return torchtext.data.TabularDataset(file_path, 'TSV', columns, skip_header=skip_header)"
   ]
  },
  {
   "cell_type": "code",
   "execution_count": 4,
   "metadata": {},
   "outputs": [],
   "source": [
    "# Data type for label(=target)\n",
    "LABEL = torchtext.data.Field(sequential=False, use_vocab=False, dtype=torch.long)\n",
    "# Data type for phrases\n",
    "TEXT = torchtext.data.Field(fix_length=50, use_vocab=True, lower=True)\n",
    "# Phrase ID\n",
    "ID = torchtext.data.Field(sequential=False, use_vocab=False, dtype=torch.long)\n",
    "\n",
    "train_columns = [\n",
    "    ('PhraseId', None),\n",
    "    ('SentenceId', None),\n",
    "    ('Phrase', TEXT),\n",
    "    ('Sentiment', LABEL)\n",
    "]\n",
    "\n",
    "test_columns = [\n",
    "    ('PhraseId', ID),\n",
    "    ('SentenceId', None),\n",
    "    ('Phrase', TEXT)\n",
    "]\n",
    "\n",
    "train = LoadTSV('./dataset/train.tsv/train.tsv', train_columns)\n",
    "test = LoadTSV('./dataset/test.tsv/test.tsv', test_columns)\n",
    "# Build vocab from phrases and use Glove vector for transfer learning\n",
    "TEXT.build_vocab(train, vectors=torchtext.vocab.GloVe(name='6B', dim=300), max_size=50000)\n",
    "# Build vocab from labels\n",
    "LABEL.build_vocab(train)\n",
    "\n",
    "device = torch.device('cuda') if torch.cuda.is_available() else torch.device('cpu')\n",
    "\n",
    "train_iter, test_iter = torchtext.data.BucketIterator.splits((train, test), sort=False, batch_size=128, device=device)\n",
    "train_iter.repeat = False\n",
    "test_iter.repeat = False"
   ]
  },
  {
   "cell_type": "code",
   "execution_count": 5,
   "metadata": {
    "scrolled": true
   },
   "outputs": [],
   "source": [
    "vocab_size = len(TEXT.vocab)\n",
    "emb_dim = 300\n",
    "hidden_size = 300\n",
    "# 0, 1, 2, 3, 4 (Sentiment score)\n",
    "num_outputs = 5\n",
    "num_layers = 2\n",
    "\n",
    "model = Network(vocab_size, emb_dim, hidden_size, num_outputs, num_layers=num_layers)\n",
    "# Use Glove pretrained vector on the embedding layer\n",
    "model.embedding.weight.data = TEXT.vocab.vectors\n",
    "model.embedding.weight.require_grad = False\n",
    "\n",
    "if torch.cuda.is_available():\n",
    "    model = model.cuda()\n",
    "\n",
    "epochs = 10\n",
    "optimizer = torch.optim.Adam(model.parameters(), lr=1e-3)\n",
    "scheduler = torch.optim.lr_scheduler.StepLR(optimizer, step_size=5, gamma=0.1)\n",
    "\n",
    "test_loss, test_accuracy = [], []\n",
    "\n",
    "def training(model, dataset, optimizer, scheduler, epochs=10):\n",
    "    model.train()\n",
    "    training_loss, train_accuracy = [], []\n",
    "    dataset_size = len(dataset.dataset)\n",
    "    for epoch in range(epochs):\n",
    "        epoch_begin = time.time()\n",
    "        epoch_loss = 0.0\n",
    "        epoch_corrects = 0\n",
    "        print(f'------------- Epoch {epoch + 1} -------------')\n",
    "        for batch in dataset:\n",
    "            text, labels = batch.Phrase, batch.Sentiment\n",
    "            if torch.cuda.is_available():\n",
    "                text, labels = text.cuda(), labels.cuda()\n",
    "            optimizer.zero_grad()\n",
    "            output = model(text)\n",
    "            loss = F.nll_loss(output, labels, reduction='sum')\n",
    "            _, preds = torch.max(output, dim=1)\n",
    "            epoch_loss += loss.data.detach().item()\n",
    "            epoch_corrects += preds.eq(labels.data.view_as(preds)).sum()\n",
    "            \n",
    "            loss.backward()\n",
    "            optimizer.step()\n",
    "        print(f'Loss / Accuracy : {epoch_loss / dataset_size :.4f} / {100. * epoch_corrects / dataset_size :.4f}% === {time.time() - epoch_begin}')\n",
    "        scheduler.step()"
   ]
  },
  {
   "cell_type": "code",
   "execution_count": 6,
   "metadata": {},
   "outputs": [
    {
     "name": "stdout",
     "output_type": "stream",
     "text": [
      "------------- Epoch 1 -------------\n",
      "Loss / Accuracy : 1.0852 / 56.9249% === 44.60798907279968\n",
      "------------- Epoch 2 -------------\n",
      "Loss / Accuracy : 0.7735 / 68.1296% === 44.22965931892395\n",
      "------------- Epoch 3 -------------\n",
      "Loss / Accuracy : 0.6965 / 71.0246% === 44.11410093307495\n",
      "------------- Epoch 4 -------------\n",
      "Loss / Accuracy : 0.6493 / 72.9668% === 44.167043685913086\n",
      "------------- Epoch 5 -------------\n",
      "Loss / Accuracy : 0.6141 / 74.3733% === 44.156005859375\n",
      "------------- Epoch 6 -------------\n",
      "Loss / Accuracy : 0.5353 / 78.0283% === 44.176945209503174\n",
      "------------- Epoch 7 -------------\n",
      "Loss / Accuracy : 0.5195 / 78.5653% === 44.22783422470093\n",
      "------------- Epoch 8 -------------\n",
      "Loss / Accuracy : 0.5088 / 79.0337% === 44.584755659103394\n",
      "------------- Epoch 9 -------------\n",
      "Loss / Accuracy : 0.4986 / 79.3611% === 44.619701623916626\n",
      "------------- Epoch 10 -------------\n",
      "Loss / Accuracy : 0.4891 / 79.7687% === 44.17894101142883\n"
     ]
    }
   ],
   "source": [
    "training(model, train_iter, optimizer, scheduler, epochs=epochs)"
   ]
  },
  {
   "cell_type": "code",
   "execution_count": 7,
   "metadata": {},
   "outputs": [],
   "source": [
    "torch.save(model.state_dict(), 'final_model.pth')"
   ]
  },
  {
   "cell_type": "code",
   "execution_count": 29,
   "metadata": {},
   "outputs": [],
   "source": [
    "def testing(model, dataset):\n",
    "    # evaluation mode\n",
    "    model.eval()\n",
    "    result = []\n",
    "    for batch in dataset:\n",
    "        text, ids = batch.Phrase, batch.PhraseId\n",
    "        output = model(text)\n",
    "        _, preds = torch.max(output, dim=1)\n",
    "        tmp = torch.cat((ids.view(-1, 1), preds.view(-1, 1)), 1).cpu().detach().numpy()\n",
    "        for e in tmp:\n",
    "            result.append(e)\n",
    "    return result\n",
    "\n",
    "result = testing(model, test_iter)\n",
    "submission = pd.DataFrame(result, columns=['PhraseId', 'Sentiment'])\n",
    "submission.to_csv('submission.csv', index=False)"
   ]
  }
 ],
 "metadata": {
  "kernelspec": {
   "display_name": "Python 3",
   "language": "python",
   "name": "python3"
  },
  "language_info": {
   "codemirror_mode": {
    "name": "ipython",
    "version": 3
   },
   "file_extension": ".py",
   "mimetype": "text/x-python",
   "name": "python",
   "nbconvert_exporter": "python",
   "pygments_lexer": "ipython3",
   "version": "3.7.6"
  }
 },
 "nbformat": 4,
 "nbformat_minor": 4
}
