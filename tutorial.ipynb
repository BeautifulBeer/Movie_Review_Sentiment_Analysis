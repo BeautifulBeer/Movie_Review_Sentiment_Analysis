{
 "cells": [
  {
   "cell_type": "code",
   "execution_count": 1,
   "metadata": {},
   "outputs": [],
   "source": [
    "import torchtext\n",
    "import torch\n",
    "import torch.nn.functional as F\n",
    "from torch.autograd import Variable\n",
    "import glob"
   ]
  },
  {
   "cell_type": "code",
   "execution_count": 2,
   "metadata": {},
   "outputs": [],
   "source": [
    "'''\n",
    "batch_first = True 는, n grams? input vector 를 열로 만들것인지, 행으로 만들것인지를 결정하는 옵션\n",
    "fix_length = 해당 파일에서 최대 몇 단어까지 들고올 것 인지에 대한 설정값, 200 이하면 <pad>를 채워서 강제로 200 길이에 맞춤\n",
    "'''\n",
    "TEXT = torchtext.data.Field(lower=True, batch_first=False, fix_length=200)\n",
    "LABEL = torchtext.data.Field(sequential=False, )"
   ]
  },
  {
   "cell_type": "code",
   "execution_count": 3,
   "metadata": {},
   "outputs": [],
   "source": [
    "'''\n",
    "이렇게 splits로 들고오면, pos/neg 밖에 구분하지 못함. score 값은 적용이 안됨 현재는 1 : neg, 2 : pos\n",
    "'''\n",
    "train, test = torchtext.datasets.IMDB.splits(TEXT, LABEL)"
   ]
  },
  {
   "cell_type": "code",
   "execution_count": 4,
   "metadata": {},
   "outputs": [],
   "source": [
    "'''\n",
    "TEXT의 vocab를 보면 실제로는 10000을 넘어가는데, 그 이유는 추가적으로 필요한 <unk>, <pad> ... 가 있기 때문이다.\n",
    "'''\n",
    "TEXT.build_vocab(train, vectors=torchtext.vocab.GloVe(name='6B', dim=300), max_size=10000, min_freq=10)\n",
    "'''\n",
    "3개 있음, neg / pos / unk\n",
    "'''\n",
    "LABEL.build_vocab(train)"
   ]
  },
  {
   "cell_type": "code",
   "execution_count": 5,
   "metadata": {},
   "outputs": [],
   "source": [
    "device = torch.device('cuda' if torch.cuda.is_available() else 'cpu')\n",
    "\n",
    "train_iter, test_iter = torchtext.data.BucketIterator.splits((train, test), batch_size=32, device=device, shuffle=False)\n",
    "\n",
    "train_iter.repeat = False\n",
    "test_iter.repeat = False"
   ]
  },
  {
   "cell_type": "code",
   "execution_count": 10,
   "metadata": {},
   "outputs": [],
   "source": [
    "class IMDBRnn(torch.nn.Module):\n",
    "    '''\n",
    "    n_vocab : # vocab\n",
    "    hidden_size : # features in the hidden state h\n",
    "    n_cat : # outputs\n",
    "    bs : batch\n",
    "    nl : # layers\n",
    "    '''\n",
    "    def __init__(self, n_vocab, hidden_size, n_cat, bs=1, nl=2):\n",
    "        super().__init__()\n",
    "        self.hidden_size = hidden_size\n",
    "        self.bs = bs\n",
    "        self.nl = nl\n",
    "        self.e = torch.nn.Embedding(n_vocab, hidden_size)\n",
    "        self.rnn = torch.nn.LSTM(hidden_size, hidden_size, nl)\n",
    "        self.fc2 = torch.nn.Linear(hidden_size, n_cat)\n",
    "        self.softmax = torch.nn.LogSoftmax(dim=-1)\n",
    "        \n",
    "    \n",
    "    def forward(self, inp):\n",
    "        bs = inp.size()[1]\n",
    "        if bs != self.bs:\n",
    "            self.bs = bs\n",
    "        e_out = self.e(inp)\n",
    "        # For every batch step, h0 and c0 are should be initialized with zero\n",
    "        h0 = c0 = e_out.data.new(*(self.nl, self.bs, self.hidden_size)).zero_()\n",
    "        rnn_o, _ = self.rnn(e_out, (h0, c0))\n",
    "        # Real output of the network\n",
    "        rnn_o = rnn_o[-1]\n",
    "        fc = F.dropout(self.fc2(rnn_o), p=0.5)\n",
    "        return self.softmax(fc)\n",
    "    \n",
    "\n",
    "def fit(epoch, model, optimizer, data_loader, phase='training', volatile=False):\n",
    "    if phase == 'training':\n",
    "        model.train()\n",
    "    if phase == 'validation':\n",
    "        model.eval()\n",
    "        volatile = True\n",
    "    \n",
    "    running_loss = 0.0\n",
    "    running_correct = 0\n",
    "    \n",
    "    for batch_idx, batch in enumerate(data_loader):\n",
    "        text, target = batch.text, batch.label\n",
    "        if torch.cuda.is_available():\n",
    "            text, target = text.cuda(), target.cuda()\n",
    "            \n",
    "        if phase == 'training':\n",
    "            optimizer.zero_grad()\n",
    "            \n",
    "        output = model(text)\n",
    "        loss = F.nll_loss(output, target)\n",
    "        \n",
    "        running_loss += F.nll_loss(output, target, reduction='sum').data.item()\n",
    "        preds = output.data.max(dim=1, keepdim=True)[1]\n",
    "        running_correct += preds.eq(target.data.view_as(preds)).cpu().sum()\n",
    "        \n",
    "        if phase == 'training':\n",
    "            loss.backward()\n",
    "            optimizer.step()\n",
    "            \n",
    "    loss = running_loss / len(data_loader.dataset)\n",
    "    accuracy = 100. * running_correct / len(data_loader.dataset)\n",
    "    \n",
    "    \n",
    "    print(f'{phase} loss is {loss:5.2f} and {phase} accuracy is {running_correct} / {len(data_loader.dataset)} {accuracy:10.4f}')\n",
    "    return loss, accuracy"
   ]
  },
  {
   "cell_type": "code",
   "execution_count": 18,
   "metadata": {},
   "outputs": [
    {
     "name": "stdout",
     "output_type": "stream",
     "text": [
      "training loss is  0.88 and training accuracy is 10875 / 25000    43.5000\n",
      "validation loss is  0.88 and validation accuracy is 10918 / 25000    43.6720\n",
      "training loss is  0.88 and training accuracy is 10956 / 25000    43.8240\n",
      "validation loss is  0.87 and validation accuracy is 10979 / 25000    43.9160\n",
      "training loss is  0.88 and training accuracy is 10890 / 25000    43.5600\n",
      "validation loss is  0.88 and validation accuracy is 10813 / 25000    43.2520\n",
      "training loss is  0.87 and training accuracy is 10965 / 25000    43.8600\n",
      "validation loss is  0.88 and validation accuracy is 10857 / 25000    43.4280\n",
      "training loss is  0.87 and training accuracy is 11161 / 25000    44.6440\n",
      "validation loss is  0.85 and validation accuracy is 11343 / 25000    45.3720\n",
      "training loss is  0.77 and training accuracy is 13214 / 25000    52.8560\n",
      "validation loss is  0.76 and validation accuracy is 13266 / 25000    53.0640\n",
      "training loss is  0.71 and training accuracy is 13903 / 25000    55.6120\n",
      "validation loss is  0.70 and validation accuracy is 14085 / 25000    56.3400\n",
      "training loss is  0.68 and training accuracy is 14189 / 25000    56.7560\n",
      "validation loss is  0.69 and validation accuracy is 14060 / 25000    56.2400\n",
      "training loss is  0.66 and training accuracy is 14478 / 25000    57.9120\n",
      "validation loss is  0.66 and validation accuracy is 14319 / 25000    57.2760\n",
      "training loss is  0.63 and training accuracy is 14716 / 25000    58.8640\n",
      "validation loss is  0.66 and validation accuracy is 14282 / 25000    57.1280\n",
      "training loss is  0.60 and training accuracy is 14961 / 25000    59.8440\n",
      "validation loss is  0.66 and validation accuracy is 14351 / 25000    57.4040\n",
      "training loss is  0.59 and training accuracy is 15084 / 25000    60.3360\n",
      "validation loss is  0.66 and validation accuracy is 14398 / 25000    57.5920\n",
      "training loss is  0.57 and training accuracy is 15154 / 25000    60.6160\n",
      "validation loss is  0.66 and validation accuracy is 14421 / 25000    57.6840\n",
      "training loss is  0.55 and training accuracy is 15375 / 25000    61.5000\n",
      "validation loss is  0.66 and validation accuracy is 14556 / 25000    58.2240\n"
     ]
    }
   ],
   "source": [
    "n_vocab = len(TEXT.vocab.stoi)\n",
    "# n_hidden = 100\n",
    "n_hidden = 300\n",
    "\n",
    "model = IMDBRnn(n_vocab, n_hidden, 3, bs=32)\n",
    "\n",
    "model.e.weight.data = TEXT.vocab.vectors\n",
    "model.e.weight.requires_grad = False\n",
    "\n",
    "model = model.cuda()\n",
    "\n",
    "optimizer = torch.optim.Adam(model.parameters(), lr=1e-2)\n",
    "scheduler = torch.optim.lr_scheduler.StepLR(optimizer, step_size=3, gamma=0.5)\n",
    "\n",
    "train_losses, train_accuracy = [], []\n",
    "val_losses, val_accuracy = [], []\n",
    "\n",
    "for epoch in range(1, 15):\n",
    "    epoch_loss, epoch_accuracy = fit(epoch, model, optimizer, train_iter, phase='training')\n",
    "    val_epoch_loss, val_epoch_accuracy = fit(epoch, model, optimizer, test_iter, phase='validation')\n",
    "    train_losses.append(epoch_loss)\n",
    "    train_accuracy.append(epoch_accuracy)\n",
    "    val_losses.append(val_epoch_loss)\n",
    "    val_accuracy.append(val_epoch_accuracy)\n",
    "    scheduler.step()"
   ]
  },
  {
   "cell_type": "code",
   "execution_count": null,
   "metadata": {},
   "outputs": [],
   "source": []
  },
  {
   "cell_type": "code",
   "execution_count": null,
   "metadata": {},
   "outputs": [],
   "source": []
  }
 ],
 "metadata": {
  "kernelspec": {
   "display_name": "Python 3",
   "language": "python",
   "name": "python3"
  },
  "language_info": {
   "codemirror_mode": {
    "name": "ipython",
    "version": 3
   },
   "file_extension": ".py",
   "mimetype": "text/x-python",
   "name": "python",
   "nbconvert_exporter": "python",
   "pygments_lexer": "ipython3",
   "version": "3.7.6"
  }
 },
 "nbformat": 4,
 "nbformat_minor": 4
}
