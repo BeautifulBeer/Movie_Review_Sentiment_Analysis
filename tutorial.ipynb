{
 "cells": [
  {
   "cell_type": "code",
   "execution_count": 68,
   "metadata": {},
   "outputs": [],
   "source": [
    "import torchtext\n",
    "import torch\n",
    "import torch.nn.functional as F\n",
    "from torch.autograd import Variable\n",
    "import glob"
   ]
  },
  {
   "cell_type": "code",
   "execution_count": 58,
   "metadata": {},
   "outputs": [],
   "source": [
    "'''\n",
    "batch_first = True 는, n grams? input vector 를 열로 만들것인지, 행으로 만들것인지를 결정하는 옵션\n",
    "fix_length = \n",
    "'''\n",
    "TEXT = torchtext.data.Field(lower=True, batch_first=False, fix_length=200)\n",
    "LABEL = torchtext.data.Field(sequential=False, )"
   ]
  },
  {
   "cell_type": "code",
   "execution_count": 59,
   "metadata": {},
   "outputs": [],
   "source": [
    "train, test = torchtext.datasets.IMDB.splits(TEXT, LABEL)"
   ]
  },
  {
   "cell_type": "code",
   "execution_count": 60,
   "metadata": {},
   "outputs": [],
   "source": [
    "TEXT.build_vocab(train, vectors=torchtext.vocab.GloVe(name='6B', dim=300), max_size=10000, min_freq=10)\n",
    "LABEL.build_vocab(train)"
   ]
  },
  {
   "cell_type": "code",
   "execution_count": 66,
   "metadata": {},
   "outputs": [],
   "source": [
    "device = torch.device('cuda' if torch.cuda.is_available() else 'cpu')\n",
    "\n",
    "train_iter, test_iter = torchtext.data.BucketIterator.splits((test, train), batch_size=32, device=device, shuffle=False)\n",
    "\n",
    "train_iter.repeat = False\n",
    "test_iter.repeat = False"
   ]
  },
  {
   "cell_type": "code",
   "execution_count": 17,
   "metadata": {},
   "outputs": [],
   "source": [
    "class IMDBRnn(torch.nn.Module):\n",
    "    def __init__(self, n_vocab, hidden_size, n_cat, bs=1, nl=2):\n",
    "        super().__init__()\n",
    "        self.hidden_size = hidden_size\n",
    "        self.bs = bs\n",
    "        self.nl = nl\n",
    "        self.e = torch.nn.Embedding(n_vocab, hidden_size)\n",
    "        self.rnn = torch.nn.LSTM(hidden_size, hidden_size, nl)\n",
    "        self.fc2 = torch.nn.Linear(hidden_size, n_cat)\n",
    "        self.softmax = torch.nn.LogSoftmax(dim=-1)\n",
    "        \n",
    "    \n",
    "    def forward(self, inp):\n",
    "        bs = inp.size()[1]\n",
    "        if bs != self.bs:\n",
    "            self.bs = bs\n",
    "        e_out = self.e(inp)\n",
    "        h0 = c0 = Variable(e_out.data.new(*(self.nl, self.bs, self.hidden_size)).zero_())\n",
    "        rnn_o, _ = self.rnn(e_out, (h0, c0))\n",
    "        rnn_o = rnn_o[-1]\n",
    "        fc = F.dropout(self.fc2(rnn_o), p=0.8)\n",
    "        return self.softmax(fc)\n",
    "    \n",
    "def fit(epoch, model, optimizer, data_loader, phase='training', volatile=False):\n",
    "    if phase == 'training':\n",
    "        model.train()\n",
    "    if phase == 'validation':\n",
    "        model.eval()\n",
    "        volatile = True\n",
    "    \n",
    "    running_loss = 0.0\n",
    "    running_correct = 0\n",
    "    \n",
    "    for batch_idx, batch in enumerate(data_loader):\n",
    "        text, target = batch.text, batch.label\n",
    "        if torch.cuda.is_available():\n",
    "            text, target = text.cuda(), target.cuda()\n",
    "            \n",
    "        if phase == 'training':\n",
    "            optimizer.zero_grad()\n",
    "            \n",
    "        output = model(text)\n",
    "        loss = F.nll_loss(output, target)\n",
    "        running_loss += F.nll_loss(output, target, size_average=False).data.item()\n",
    "        preds = output.data.max(dim=1, keepdim=True)[1]\n",
    "        running_correct += preds.eq(target.data.view_as(preds)).cpu().sum()\n",
    "        \n",
    "        if phase == 'training':\n",
    "            loss.backward()\n",
    "            optimizer.step()\n",
    "            return\n",
    "    loss = running_loss / len(data_loader.dataset)\n",
    "    accuracy = 100. * running_correct / len(data_loader.dataset)\n",
    "    \n",
    "    \n",
    "    print(f'{phase} loss is {loss:5.2f} and {phase} accuracy is {running_correct} / {len(data_loader.dataset)} {accuracy:10.4f}')\n",
    "    return loss, accuracy"
   ]
  },
  {
   "cell_type": "code",
   "execution_count": 19,
   "metadata": {},
   "outputs": [
    {
     "name": "stdout",
     "output_type": "stream",
     "text": [
      "training loss is  1.00 and training accuracy is 6139 / 25000    24.5560\n",
      "validation loss is  1.00 and validation accuracy is 6189 / 25000    24.7560\n",
      "training loss is  1.00 and training accuracy is 6170 / 25000    24.6800\n",
      "validation loss is  1.00 and validation accuracy is 6062 / 25000    24.2480\n",
      "training loss is  1.00 and training accuracy is 6135 / 25000    24.5400\n",
      "validation loss is  1.01 and validation accuracy is 6041 / 25000    24.1640\n",
      "training loss is  1.00 and training accuracy is 6005 / 25000    24.0200\n",
      "validation loss is  1.00 and validation accuracy is 6054 / 25000    24.2160\n"
     ]
    }
   ],
   "source": [
    "n_vocab = len(TEXT.vocab.stoi)\n",
    "n_hidden = 30\n",
    "\n",
    "model = IMDBRnn(n_vocab, n_hidden, 3, bs=32)\n",
    "model = model.cuda()\n",
    "\n",
    "optimizer = torch.optim.Adam(model.parameters(), lr=1e-3)\n",
    "\n",
    "train_losses, train_accuracy = [], []\n",
    "val_losses, val_accuracy = [], []\n",
    "\n",
    "for epoch in range(1, 5):\n",
    "    epoch_loss, epoch_accuracy = fit(epoch, model, optimizer, train_iter, phase='training')\n",
    "    val_epoch_loss, val_epoch_accuracy = fit(epoch, model, optimizer, test_iter, phase='validation')\n",
    "    train_losses.append(epoch_loss)\n",
    "    train_accuracy.append(epoch_accuracy)\n",
    "    val_losses.append(val_epoch_loss)\n",
    "    val_accuracy.append(val_epoch_accuracy)"
   ]
  },
  {
   "cell_type": "code",
   "execution_count": 67,
   "metadata": {},
   "outputs": [
    {
     "name": "stdout",
     "output_type": "stream",
     "text": [
      "torch.Size([200, 32])\n",
      "i went and saw this movie last night after being <unk> to by a few friends of mine. i'll admit that i was reluctant to see it because from what i knew of <unk> <unk> he was only able to do comedy. i was wrong. <unk> played the character of jake <unk> very well, and kevin <unk> played ben <unk> with such <unk> the sign of a good movie is that it can toy with our emotions. this one did exactly that. the entire theater (which was sold <unk> was overcome by laughter during the first half of the movie, and were moved to tears during the second half. while <unk> the theater i not only saw many women in <unk> but many full grown men as well, trying desperately not to let anyone see them <unk> this movie was great, and i suggest that you go see it before you <unk> <pad> <pad> <pad> <pad> <pad> <pad> <pad> <pad> <pad> <pad> <pad> <pad> <pad> <pad> <pad> <pad> <pad> <pad> <pad> <pad> <pad> <pad> <pad> <pad> <pad> <pad> <pad> <pad> <pad> <pad> <pad> <pad> <pad> <pad> <pad> <pad> <pad> <pad> <pad> <pad> <pad> <pad> <pad> <pad> <pad> <pad> <pad> <pad>\n",
      "actor turned director bill paxton follows up his promising debut, the <unk> <unk> with this family friendly sports drama about the <unk> u.s. open where a young american <unk> rises from his humble background to play against his <unk> <unk> in what was dubbed as \"the greatest game ever <unk> i'm no fan of <unk> and these <unk> <unk> sports flicks are a <unk> a dozen (most recently done to grand effect with <unk> and <unk> <unk> but some how this film was <unk> all the <unk> /><br />the film starts with some creative opening credits <unk> a <unk> version of the animated opening credits of <unk> <unk> and <unk> but <unk> along slowly for its first <unk> hour. once the action moves to the u.s. open things pick up very well. paxton does a nice job and shows a <unk> for effective directorial <unk> (i loved the <unk> montage of the action on day two of the <unk> that <unk> the plot further or add some unexpected psychological depth to the proceedings. there's some compelling character development when the british harry <unk> is haunted by images of the <unk> in black suits and top hats who destroyed his family\n",
      "as a <unk> <unk> with some knowledge of the <unk> history, i was pleased with disney's <unk> to the issues of class in <unk> in the early <unk> century. the movie depicted well the psychological battles that harry <unk> fought within himself, from his childhood <unk> of being <unk> to his own inability to break that glass <unk> that <unk> him from being accepted as an equal in english <unk> society. <unk> the young <unk> goes through his own class <unk> being a mere <unk> in the eyes of the upper <unk> americans who <unk> at his attempts to rise above his <unk> <br /><br />what i loved best, however, is how this theme of class is <unk> in the characters of <unk> parents. his father is a <unk> <unk> who sees the value of hard work but is <unk> by the upper <unk> his mother, however, <unk> her son's talent and desire and encourages him to pursue his dream of <unk> against those who think he is <unk> /><br />finally, the <unk> scenes are well <unk> although the course used in the movie was not the actual site of the historical <unk> the little <unk> taken by disney do\n",
      "i saw this film in a sneak <unk> and it is <unk> the cinematography is unusually <unk> the acting is good, and the story is <unk> if this movie does not do well, it won't be because it doesn't deserve to. before this film, i didn't realize how charming <unk> <unk> could be. he does a <unk> <unk> job as the lead. there's something incredibly sweet about him, and it makes the movie even better. the other actors do a good job as well, and the film contains moments of really high suspense, more than one might expect from a movie about <unk> sports movies are a <unk> a <unk> but this one stands out. <br /><br />this is one i'd recommend to anyone. <pad> <pad> <pad> <pad> <pad> <pad> <pad> <pad> <pad> <pad> <pad> <pad> <pad> <pad> <pad> <pad> <pad> <pad> <pad> <pad> <pad> <pad> <pad> <pad> <pad> <pad> <pad> <pad> <pad> <pad> <pad> <pad> <pad> <pad> <pad> <pad> <pad> <pad> <pad> <pad> <pad> <pad> <pad> <pad> <pad> <pad> <pad> <pad> <pad> <pad> <pad> <pad> <pad> <pad> <pad> <pad> <pad> <pad> <pad> <pad> <pad> <pad> <pad> <pad> <pad> <pad> <pad> <pad> <pad> <pad> <pad> <pad> <pad> <pad> <pad> <pad>\n",
      "bill paxton has taken the true story of the <unk> us <unk> open and made a film that is about much more than an <unk> game of <unk> the film also deals directly with the class <unk> of the early <unk> century and touches upon the profound <unk> <unk> of both the british and american <unk> but at heart the film is about that <unk> favourite of triumph against the <unk> /><br />the acting is <unk> throughout. stephen <unk> is excellent as usual, but the revelation of the movie is <unk> <unk> who delivers a <unk> <unk> and highly sympathetic performance as a working class <unk> kid fighting his way through the <unk> of the new england <unk> <unk> for those who are only familiar with his <unk> performances in <unk> <unk> this <unk> of his <unk> is a delightful surprise. and josh <unk> as the ten year old <unk> threatens to steal every scene in which he <unk> /><br />a old fashioned movie in the best sense of the <unk> fine acting, clear directing and a great story that <unk> to the end - the final scene an <unk> nod to <unk> is just one of the many <unk>\n",
      "tensor([2, 2, 2, 2, 2, 2, 2, 2, 2, 2, 2, 2, 2, 2, 2, 2, 2, 2, 2, 2, 2, 2, 2, 2,\n",
      "        2, 2, 2, 2, 2, 2, 2, 2], device='cuda:0')\n"
     ]
    }
   ],
   "source": [
    "for batch in train_iter:\n",
    "    text, label = batch\n",
    "    tmp = 0\n",
    "    print(text[0].shape)\n",
    "    tmp_text = text[0].transpose(0, 1)\n",
    "    for row in tmp_text:\n",
    "        print(' '.join([TEXT.vocab.itos[idx] for idx in row]))\n",
    "        tmp += 1\n",
    "        if tmp == 5:\n",
    "            break\n",
    "    tmp = 0\n",
    "    print(text[1])\n",
    "#     for label in text[1]:\n",
    "#         print(label)\n",
    "#         tmp += 1\n",
    "#         if tmp == 5:\n",
    "#             break\n",
    "#         break\n",
    "    break"
   ]
  },
  {
   "cell_type": "code",
   "execution_count": 26,
   "metadata": {},
   "outputs": [
    {
     "data": {
      "text/plain": [
       "<torchtext.datasets.imdb.IMDB at 0x1c303df6fc8>"
      ]
     },
     "execution_count": 26,
     "metadata": {},
     "output_type": "execute_result"
    }
   ],
   "source": [
    "train"
   ]
  },
  {
   "cell_type": "code",
   "execution_count": 86,
   "metadata": {},
   "outputs": [
    {
     "name": "stdout",
     "output_type": "stream",
     "text": [
      ".data/imdb/aclImdb/train/unsup\\13200_0.txt\n",
      ".data/imdb/aclImdb/train/unsup\\18360_0.txt\n",
      ".data/imdb/aclImdb/train/unsup\\18376_0.txt\n",
      ".data/imdb/aclImdb/train/unsup\\31179_0.txt\n",
      ".data/imdb/aclImdb/train/unsup\\32841_0.txt\n",
      ".data/imdb/aclImdb/train/unsup\\36245_0.txt\n",
      ".data/imdb/aclImdb/train/unsup\\37874_0.txt\n",
      ".data/imdb/aclImdb/train/unsup\\8085_0.txt\n",
      ".data/imdb/aclImdb/train/unsup\\9326_0.txt\n",
      ".data/imdb/aclImdb/train/unsup\\9383_0.txt\n",
      ".data/imdb/aclImdb/train/unsup\\9385_0.txt\n"
     ]
    }
   ],
   "source": [
    "target_string = \"saw this movie last night\"\n",
    "\n",
    "for file in glob.glob('.data/imdb/aclImdb/train/unsup/*.txt'):\n",
    "    content = open(file, 'r', encoding='UTF8').read().lower()\n",
    "    if not content.find(target_string) == -1:\n",
    "        print(file)"
   ]
  },
  {
   "cell_type": "code",
   "execution_count": null,
   "metadata": {},
   "outputs": [],
   "source": []
  },
  {
   "cell_type": "code",
   "execution_count": null,
   "metadata": {},
   "outputs": [],
   "source": []
  }
 ],
 "metadata": {
  "kernelspec": {
   "display_name": "Python 3",
   "language": "python",
   "name": "python3"
  },
  "language_info": {
   "codemirror_mode": {
    "name": "ipython",
    "version": 3
   },
   "file_extension": ".py",
   "mimetype": "text/x-python",
   "name": "python",
   "nbconvert_exporter": "python",
   "pygments_lexer": "ipython3",
   "version": "3.7.6"
  }
 },
 "nbformat": 4,
 "nbformat_minor": 4
}
